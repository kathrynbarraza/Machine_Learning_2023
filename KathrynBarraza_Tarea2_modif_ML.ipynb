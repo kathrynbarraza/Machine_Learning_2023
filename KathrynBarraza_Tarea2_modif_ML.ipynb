{
  "cells": [
    {
      "cell_type": "markdown",
      "source": [
        "# **Tarea 2**\n",
        "## Machine Learning\n",
        "### Kathryn Barraza - Estudiante de Ing. Civil Matemática UV\n",
        "\n",
        "\n",
        "---\n",
        "\n"
      ],
      "metadata": {
        "id": "gMd4iFhOg6SE"
      },
      "id": "gMd4iFhOg6SE"
    },
    {
      "cell_type": "markdown",
      "source": [
        "El siguiente trabajo está basado en\n",
        "- La implementación vista en clases, realizada por el Profesor Alejandro Pereira, para los primeros modelos: regresión logística y svm.\n",
        "- Más códigos que fueron extraídos de internet para los últimos modelos: Naïve Bayes, LDA y QDA."
      ],
      "metadata": {
        "id": "3KykqxoAhXwx"
      },
      "id": "3KykqxoAhXwx"
    },
    {
      "cell_type": "markdown",
      "source": [
        "# **Contenidos**\n",
        "\n",
        "1.   Introducción\n",
        "2.   Librerías\n",
        "3.   Datos\n",
        "4.   Test-Train split\n",
        "5.   Regrisión Logísitca\n",
        "6.   SVM\n",
        "7.   Naïve Bayes\n",
        "8.   LDA\n",
        "9.   QDA\n",
        "10.  Métricas de desempeño\n",
        "11.  Tabla comparativa\n",
        "12.  Conclusión\n",
        "\n"
      ],
      "metadata": {
        "id": "41GXqvyfB7lI"
      },
      "id": "41GXqvyfB7lI"
    },
    {
      "cell_type": "markdown",
      "source": [
        "# **Introducción**"
      ],
      "metadata": {
        "id": "uIh7VsCQFz_s"
      },
      "id": "uIh7VsCQFz_s"
    },
    {
      "cell_type": "markdown",
      "source": [
        "#### A través de una data de ataque al corazón se busca realizar comparaciones de modelos de aprendizaje supervisado, cuya variable respuesta es la chance que se tiene de sufrir un ataque al corazón.\n",
        "#### Los datos fueron extraídos desde Kaggle.\n",
        "\n",
        "### **Objetivo**\n",
        "\n",
        "#### Implementar regresión logística, SVM, Naive Bayes, LDA y QDA, para realizar comparaciones entre ellos a través del uso de métricas de desempeño. Con el fin de observar qué modelo obtiene mejores resultados para este problema en particular."
      ],
      "metadata": {
        "id": "t9dDWoey8kVF"
      },
      "id": "t9dDWoey8kVF"
    },
    {
      "cell_type": "markdown",
      "source": [
        "# **Librerías**"
      ],
      "metadata": {
        "id": "n7eGI7NcB09t"
      },
      "id": "n7eGI7NcB09t"
    },
    {
      "cell_type": "markdown",
      "source": [
        "Aquí importamos las librerías necesarias para la ejecución de este trabajo."
      ],
      "metadata": {
        "id": "tD_JKM1WFhaY"
      },
      "id": "tD_JKM1WFhaY"
    },
    {
      "cell_type": "code",
      "execution_count": 56,
      "id": "219fc4e9",
      "metadata": {
        "id": "219fc4e9"
      },
      "outputs": [],
      "source": [
        "#librerías generales\n",
        "import pandas as pd\n",
        "import numpy as np\n",
        "import matplotlib.pyplot as plt\n",
        "import sklearn.metrics as sk_metrics\n",
        "import seaborn as sns\n",
        "#librerías específicas de los modelos\n",
        "from sklearn.linear_model import LogisticRegression\n",
        "from sklearn import svm\n",
        "from sklearn.naive_bayes import GaussianNB\n",
        "from sklearn.discriminant_analysis import LinearDiscriminantAnalysis as LDA\n",
        "from sklearn.discriminant_analysis import QuadraticDiscriminantAnalysis as QDA\n",
        "#librerías extras\n",
        "from sklearn.model_selection import train_test_split\n",
        "from scipy.special import expit\n",
        "from sklearn.preprocessing import StandardScaler\n",
        "from sklearn.datasets import make_blobs\n",
        "from sklearn.inspection import DecisionBoundaryDisplay\n",
        "from sklearn.datasets import make_classification\n",
        "from sklearn.metrics import roc_curve, auc"
      ]
    },
    {
      "cell_type": "markdown",
      "source": [
        "#**Datos**"
      ],
      "metadata": {
        "id": "plmtmXkhF46B"
      },
      "id": "plmtmXkhF46B"
    },
    {
      "cell_type": "code",
      "execution_count": 3,
      "id": "ef42d518",
      "metadata": {
        "colab": {
          "base_uri": "https://localhost:8080/",
          "height": 225
        },
        "id": "ef42d518",
        "outputId": "4084f0c9-6b42-4a6a-951a-2e007aa28d8d"
      },
      "outputs": [
        {
          "output_type": "stream",
          "name": "stdout",
          "text": [
            "Mounted at /content/drive\n"
          ]
        },
        {
          "output_type": "execute_result",
          "data": {
            "text/plain": [
              "   age  sex  cp trestbps chol fbs restecg thalach exang  oldpeak slope ca  \\\n",
              "0   28    1   2      130  132   0       2     185     0      0.0     ?  ?   \n",
              "1   29    1   2      120  243   0       0     160     0      0.0     ?  ?   \n",
              "2   29    1   2      140    ?   0       0     170     0      0.0     ?  ?   \n",
              "3   30    0   1      170  237   0       1     170     0      0.0     ?  ?   \n",
              "4   31    0   2      100  219   0       1     150     0      0.0     ?  ?   \n",
              "\n",
              "  thal  num         \n",
              "0    ?           0  \n",
              "1    ?           0  \n",
              "2    ?           0  \n",
              "3    6           0  \n",
              "4    ?           0  "
            ],
            "text/html": [
              "\n",
              "  <div id=\"df-c958000a-6998-4a14-81dd-4ef96c642d40\">\n",
              "    <div class=\"colab-df-container\">\n",
              "      <div>\n",
              "<style scoped>\n",
              "    .dataframe tbody tr th:only-of-type {\n",
              "        vertical-align: middle;\n",
              "    }\n",
              "\n",
              "    .dataframe tbody tr th {\n",
              "        vertical-align: top;\n",
              "    }\n",
              "\n",
              "    .dataframe thead th {\n",
              "        text-align: right;\n",
              "    }\n",
              "</style>\n",
              "<table border=\"1\" class=\"dataframe\">\n",
              "  <thead>\n",
              "    <tr style=\"text-align: right;\">\n",
              "      <th></th>\n",
              "      <th>age</th>\n",
              "      <th>sex</th>\n",
              "      <th>cp</th>\n",
              "      <th>trestbps</th>\n",
              "      <th>chol</th>\n",
              "      <th>fbs</th>\n",
              "      <th>restecg</th>\n",
              "      <th>thalach</th>\n",
              "      <th>exang</th>\n",
              "      <th>oldpeak</th>\n",
              "      <th>slope</th>\n",
              "      <th>ca</th>\n",
              "      <th>thal</th>\n",
              "      <th>num</th>\n",
              "    </tr>\n",
              "  </thead>\n",
              "  <tbody>\n",
              "    <tr>\n",
              "      <th>0</th>\n",
              "      <td>28</td>\n",
              "      <td>1</td>\n",
              "      <td>2</td>\n",
              "      <td>130</td>\n",
              "      <td>132</td>\n",
              "      <td>0</td>\n",
              "      <td>2</td>\n",
              "      <td>185</td>\n",
              "      <td>0</td>\n",
              "      <td>0.0</td>\n",
              "      <td>?</td>\n",
              "      <td>?</td>\n",
              "      <td>?</td>\n",
              "      <td>0</td>\n",
              "    </tr>\n",
              "    <tr>\n",
              "      <th>1</th>\n",
              "      <td>29</td>\n",
              "      <td>1</td>\n",
              "      <td>2</td>\n",
              "      <td>120</td>\n",
              "      <td>243</td>\n",
              "      <td>0</td>\n",
              "      <td>0</td>\n",
              "      <td>160</td>\n",
              "      <td>0</td>\n",
              "      <td>0.0</td>\n",
              "      <td>?</td>\n",
              "      <td>?</td>\n",
              "      <td>?</td>\n",
              "      <td>0</td>\n",
              "    </tr>\n",
              "    <tr>\n",
              "      <th>2</th>\n",
              "      <td>29</td>\n",
              "      <td>1</td>\n",
              "      <td>2</td>\n",
              "      <td>140</td>\n",
              "      <td>?</td>\n",
              "      <td>0</td>\n",
              "      <td>0</td>\n",
              "      <td>170</td>\n",
              "      <td>0</td>\n",
              "      <td>0.0</td>\n",
              "      <td>?</td>\n",
              "      <td>?</td>\n",
              "      <td>?</td>\n",
              "      <td>0</td>\n",
              "    </tr>\n",
              "    <tr>\n",
              "      <th>3</th>\n",
              "      <td>30</td>\n",
              "      <td>0</td>\n",
              "      <td>1</td>\n",
              "      <td>170</td>\n",
              "      <td>237</td>\n",
              "      <td>0</td>\n",
              "      <td>1</td>\n",
              "      <td>170</td>\n",
              "      <td>0</td>\n",
              "      <td>0.0</td>\n",
              "      <td>?</td>\n",
              "      <td>?</td>\n",
              "      <td>6</td>\n",
              "      <td>0</td>\n",
              "    </tr>\n",
              "    <tr>\n",
              "      <th>4</th>\n",
              "      <td>31</td>\n",
              "      <td>0</td>\n",
              "      <td>2</td>\n",
              "      <td>100</td>\n",
              "      <td>219</td>\n",
              "      <td>0</td>\n",
              "      <td>1</td>\n",
              "      <td>150</td>\n",
              "      <td>0</td>\n",
              "      <td>0.0</td>\n",
              "      <td>?</td>\n",
              "      <td>?</td>\n",
              "      <td>?</td>\n",
              "      <td>0</td>\n",
              "    </tr>\n",
              "  </tbody>\n",
              "</table>\n",
              "</div>\n",
              "      <button class=\"colab-df-convert\" onclick=\"convertToInteractive('df-c958000a-6998-4a14-81dd-4ef96c642d40')\"\n",
              "              title=\"Convert this dataframe to an interactive table.\"\n",
              "              style=\"display:none;\">\n",
              "        \n",
              "  <svg xmlns=\"http://www.w3.org/2000/svg\" height=\"24px\"viewBox=\"0 0 24 24\"\n",
              "       width=\"24px\">\n",
              "    <path d=\"M0 0h24v24H0V0z\" fill=\"none\"/>\n",
              "    <path d=\"M18.56 5.44l.94 2.06.94-2.06 2.06-.94-2.06-.94-.94-2.06-.94 2.06-2.06.94zm-11 1L8.5 8.5l.94-2.06 2.06-.94-2.06-.94L8.5 2.5l-.94 2.06-2.06.94zm10 10l.94 2.06.94-2.06 2.06-.94-2.06-.94-.94-2.06-.94 2.06-2.06.94z\"/><path d=\"M17.41 7.96l-1.37-1.37c-.4-.4-.92-.59-1.43-.59-.52 0-1.04.2-1.43.59L10.3 9.45l-7.72 7.72c-.78.78-.78 2.05 0 2.83L4 21.41c.39.39.9.59 1.41.59.51 0 1.02-.2 1.41-.59l7.78-7.78 2.81-2.81c.8-.78.8-2.07 0-2.86zM5.41 20L4 18.59l7.72-7.72 1.47 1.35L5.41 20z\"/>\n",
              "  </svg>\n",
              "      </button>\n",
              "      \n",
              "  <style>\n",
              "    .colab-df-container {\n",
              "      display:flex;\n",
              "      flex-wrap:wrap;\n",
              "      gap: 12px;\n",
              "    }\n",
              "\n",
              "    .colab-df-convert {\n",
              "      background-color: #E8F0FE;\n",
              "      border: none;\n",
              "      border-radius: 50%;\n",
              "      cursor: pointer;\n",
              "      display: none;\n",
              "      fill: #1967D2;\n",
              "      height: 32px;\n",
              "      padding: 0 0 0 0;\n",
              "      width: 32px;\n",
              "    }\n",
              "\n",
              "    .colab-df-convert:hover {\n",
              "      background-color: #E2EBFA;\n",
              "      box-shadow: 0px 1px 2px rgba(60, 64, 67, 0.3), 0px 1px 3px 1px rgba(60, 64, 67, 0.15);\n",
              "      fill: #174EA6;\n",
              "    }\n",
              "\n",
              "    [theme=dark] .colab-df-convert {\n",
              "      background-color: #3B4455;\n",
              "      fill: #D2E3FC;\n",
              "    }\n",
              "\n",
              "    [theme=dark] .colab-df-convert:hover {\n",
              "      background-color: #434B5C;\n",
              "      box-shadow: 0px 1px 3px 1px rgba(0, 0, 0, 0.15);\n",
              "      filter: drop-shadow(0px 1px 2px rgba(0, 0, 0, 0.3));\n",
              "      fill: #FFFFFF;\n",
              "    }\n",
              "  </style>\n",
              "\n",
              "      <script>\n",
              "        const buttonEl =\n",
              "          document.querySelector('#df-c958000a-6998-4a14-81dd-4ef96c642d40 button.colab-df-convert');\n",
              "        buttonEl.style.display =\n",
              "          google.colab.kernel.accessAllowed ? 'block' : 'none';\n",
              "\n",
              "        async function convertToInteractive(key) {\n",
              "          const element = document.querySelector('#df-c958000a-6998-4a14-81dd-4ef96c642d40');\n",
              "          const dataTable =\n",
              "            await google.colab.kernel.invokeFunction('convertToInteractive',\n",
              "                                                     [key], {});\n",
              "          if (!dataTable) return;\n",
              "\n",
              "          const docLinkHtml = 'Like what you see? Visit the ' +\n",
              "            '<a target=\"_blank\" href=https://colab.research.google.com/notebooks/data_table.ipynb>data table notebook</a>'\n",
              "            + ' to learn more about interactive tables.';\n",
              "          element.innerHTML = '';\n",
              "          dataTable['output_type'] = 'display_data';\n",
              "          await google.colab.output.renderOutput(dataTable, element);\n",
              "          const docLink = document.createElement('div');\n",
              "          docLink.innerHTML = docLinkHtml;\n",
              "          element.appendChild(docLink);\n",
              "        }\n",
              "      </script>\n",
              "    </div>\n",
              "  </div>\n",
              "  "
            ]
          },
          "metadata": {},
          "execution_count": 3
        }
      ],
      "source": [
        "#Importamos los datos\n",
        "from google.colab import drive\n",
        "drive.mount('/content/drive')\n",
        "url='/content/drive/MyDrive/data.csv'\n",
        "df= pd.read_csv(url)\n",
        "#Mostramos los primeros datos de todo nuestro conjunto\n",
        "df.head()"
      ]
    },
    {
      "cell_type": "code",
      "execution_count": 4,
      "id": "1de58b83",
      "metadata": {
        "colab": {
          "base_uri": "https://localhost:8080/"
        },
        "id": "1de58b83",
        "outputId": "11c840b2-f341-41a1-dc97-a7f44ae9a748"
      },
      "outputs": [
        {
          "output_type": "execute_result",
          "data": {
            "text/plain": [
              "(261, 11)"
            ]
          },
          "metadata": {},
          "execution_count": 4
        }
      ],
      "source": [
        "#Aquí arreglamos ciertas cosas con respecto a la data: renombramos, borramos lo que tiene datos perdidos y vemos al final con cuantos datos nos quedamos.\n",
        "df.rename(columns = {'num       ': 'attack'}, inplace = True)\n",
        "df.replace(\"?\", np.nan, inplace = True)\n",
        "df.drop(columns = ['slope', 'ca', 'thal'], inplace = True)\n",
        "df.dropna(inplace= True)\n",
        "df.shape"
      ]
    },
    {
      "cell_type": "markdown",
      "id": "f1b9712e",
      "metadata": {
        "id": "f1b9712e"
      },
      "source": [
        "### Variables que vamos a usar\n",
        "\n",
        "    age: age in years\n",
        "    sex: sex (1 = male; 0 = female)\n",
        "    cp: chest pain type\n",
        "    – 1: typical angina\n",
        "    – 2: atypical angina\n",
        "    – 3: non-anginal pain\n",
        "    – 4: asymptomatic\n",
        "    trestbps: resting blood pressure (in mm Hg on admission to the hospital)\n",
        "    chol: serum cholesterol in mg/dl\n",
        "    fbs: (fasting blood sugar > 120 mg/dl) (1 = true; 0 = false)\n",
        "    restecg: resting electrocardiographic results\n",
        "    – 0: normal\n",
        "    – 1: having ST-T wave abnormality (T wave inversions and/or ST elevation or depression of > 0.05 mV)\n",
        "    – 2: showing probable or definite left ventricular hypertrophy by Estes’ criteria\n",
        "    thalach: maximum heart rate achieved\n",
        "    exang: exercise-induced angina (1 = yes; 0 = no)\n",
        "    oldpeak: ST depression induced by exercise relative to rest"
      ]
    },
    {
      "cell_type": "markdown",
      "id": "134ff41d",
      "metadata": {
        "id": "134ff41d"
      },
      "source": [
        "## **Test - Train split**"
      ]
    },
    {
      "cell_type": "markdown",
      "source": [
        "Hacemos la separación de nuestra muestra en datos de entrenamiento y datos de evaluación. Es útil hacer esto para evaluar los modelos una vez entrenados, pues queremos saber si ha aprendido adecuadamente del fragmento de datos de aprendizaje.\n",
        "\n",
        "Esta separación se hará para los cinco modelos con el mismo tamaño de test 0.20 y semilla 123. Esto con el fin de que nuestras comparaciones finales sean más consecuentes.\n"
      ],
      "metadata": {
        "id": "dgr9NVCx5C8-"
      },
      "id": "dgr9NVCx5C8-"
    },
    {
      "cell_type": "code",
      "execution_count": 5,
      "id": "74f8e090",
      "metadata": {
        "colab": {
          "base_uri": "https://localhost:8080/"
        },
        "id": "74f8e090",
        "outputId": "5fbde7de-7f67-4d29-ad88-f027191775f4"
      },
      "outputs": [
        {
          "output_type": "stream",
          "name": "stdout",
          "text": [
            "(208, 11)\n",
            "(53, 11)\n",
            "\n",
            "Percentages of heart attacks in Train data:\n",
            " 0    0.625\n",
            "1    0.375\n",
            "Name: attack, dtype: float64\n",
            "\n",
            "Percentages of heart attacks in Test data:\n",
            " 0    0.622642\n",
            "1    0.377358\n",
            "Name: attack, dtype: float64\n"
          ]
        }
      ],
      "source": [
        "random_seed = 123\n",
        "df_train, df_test = train_test_split(df, test_size=0.20, random_state=random_seed, stratify=df['attack'])\n",
        "\n",
        "\n",
        "print(df_train.shape) #tamaño de nuestros datos de entrenamiento\n",
        "print(df_test.shape) #tamaño de nuestros datos de evaluación\n",
        "\n",
        "print(\"\\nPercentages of heart attacks in Train data:\\n\", df_train['attack'].value_counts(normalize=True))\n",
        "print(\"\\nPercentages of heart attacks in Test data:\\n\", df_test['attack'].value_counts(normalize=True))"
      ]
    },
    {
      "cell_type": "code",
      "execution_count": 6,
      "id": "5c3b8bc0",
      "metadata": {
        "colab": {
          "base_uri": "https://localhost:8080/"
        },
        "id": "5c3b8bc0",
        "outputId": "279db15e-4a8a-478e-8d22-2021880f2f2f"
      },
      "outputs": [
        {
          "output_type": "stream",
          "name": "stdout",
          "text": [
            "Numerical var: ['age', 'trestbps', 'chol', 'thalach', 'oldpeak']\n",
            "\n",
            "Categorical var: ['cp', 'exang', 'fbs', 'restecg', 'sex']\n"
          ]
        }
      ],
      "source": [
        "#Separamos a las variables en dos grupos, numericas y categoricas\n",
        "#Estandarización de variables numéricas para trabajar con el modelo de Regresión logística\n",
        "## pues al intentar hacerlo sin reescalamiento había un aviso de problemas de convergencia, por lo que mejor estandarizamos en este caso\n",
        "\n",
        "numeric_cols = ['age', 'trestbps', 'chol', 'thalach', 'oldpeak']\n",
        "cat_cols = list(set(df.columns) - set(numeric_cols) - {'attack'})\n",
        "cat_cols.sort()\n",
        "\n",
        "print(\"Numerical var:\", numeric_cols)\n",
        "print(\"\\nCategorical var:\", cat_cols)\n",
        "\n",
        "scaler = StandardScaler()\n",
        "scaler.fit(df_train[numeric_cols])\n",
        "\n",
        "def get_features_and_target_arrays(df, numeric_cols, cat_cols, scaler):\n",
        "    X_numeric_scaled = scaler.transform(df[numeric_cols])\n",
        "    X_categorical = df[cat_cols].to_numpy()\n",
        "    X = np.hstack((X_categorical, X_numeric_scaled))\n",
        "    y = df['attack']\n",
        "    return X, y\n",
        "\n",
        "X, y = get_features_and_target_arrays(df_train, numeric_cols, cat_cols, scaler)"
      ]
    },
    {
      "cell_type": "markdown",
      "source": [
        "# **Regresión Logística**\n",
        "La regresión logística es un modelo de regresión supervisado que modela la probabilidad. Es una técnica de análisis de datos para encontrar las relaciones entre dos factores de datos. Luego, utiliza esta relación para predecir el valor de uno de esos factores basándose en el otro.\n",
        "\n",
        "---\n",
        "\n"
      ],
      "metadata": {
        "id": "OhU7AfRe9nBX"
      },
      "id": "OhU7AfRe9nBX"
    },
    {
      "cell_type": "code",
      "execution_count": 7,
      "id": "0738624d",
      "metadata": {
        "colab": {
          "base_uri": "https://localhost:8080/",
          "height": 75
        },
        "id": "0738624d",
        "outputId": "8e74b59b-60d4-47e7-97cc-28b3f601e8bd"
      },
      "outputs": [
        {
          "output_type": "execute_result",
          "data": {
            "text/plain": [
              "LogisticRegression()"
            ],
            "text/html": [
              "<style>#sk-container-id-1 {color: black;background-color: white;}#sk-container-id-1 pre{padding: 0;}#sk-container-id-1 div.sk-toggleable {background-color: white;}#sk-container-id-1 label.sk-toggleable__label {cursor: pointer;display: block;width: 100%;margin-bottom: 0;padding: 0.3em;box-sizing: border-box;text-align: center;}#sk-container-id-1 label.sk-toggleable__label-arrow:before {content: \"▸\";float: left;margin-right: 0.25em;color: #696969;}#sk-container-id-1 label.sk-toggleable__label-arrow:hover:before {color: black;}#sk-container-id-1 div.sk-estimator:hover label.sk-toggleable__label-arrow:before {color: black;}#sk-container-id-1 div.sk-toggleable__content {max-height: 0;max-width: 0;overflow: hidden;text-align: left;background-color: #f0f8ff;}#sk-container-id-1 div.sk-toggleable__content pre {margin: 0.2em;color: black;border-radius: 0.25em;background-color: #f0f8ff;}#sk-container-id-1 input.sk-toggleable__control:checked~div.sk-toggleable__content {max-height: 200px;max-width: 100%;overflow: auto;}#sk-container-id-1 input.sk-toggleable__control:checked~label.sk-toggleable__label-arrow:before {content: \"▾\";}#sk-container-id-1 div.sk-estimator input.sk-toggleable__control:checked~label.sk-toggleable__label {background-color: #d4ebff;}#sk-container-id-1 div.sk-label input.sk-toggleable__control:checked~label.sk-toggleable__label {background-color: #d4ebff;}#sk-container-id-1 input.sk-hidden--visually {border: 0;clip: rect(1px 1px 1px 1px);clip: rect(1px, 1px, 1px, 1px);height: 1px;margin: -1px;overflow: hidden;padding: 0;position: absolute;width: 1px;}#sk-container-id-1 div.sk-estimator {font-family: monospace;background-color: #f0f8ff;border: 1px dotted black;border-radius: 0.25em;box-sizing: border-box;margin-bottom: 0.5em;}#sk-container-id-1 div.sk-estimator:hover {background-color: #d4ebff;}#sk-container-id-1 div.sk-parallel-item::after {content: \"\";width: 100%;border-bottom: 1px solid gray;flex-grow: 1;}#sk-container-id-1 div.sk-label:hover label.sk-toggleable__label {background-color: #d4ebff;}#sk-container-id-1 div.sk-serial::before {content: \"\";position: absolute;border-left: 1px solid gray;box-sizing: border-box;top: 0;bottom: 0;left: 50%;z-index: 0;}#sk-container-id-1 div.sk-serial {display: flex;flex-direction: column;align-items: center;background-color: white;padding-right: 0.2em;padding-left: 0.2em;position: relative;}#sk-container-id-1 div.sk-item {position: relative;z-index: 1;}#sk-container-id-1 div.sk-parallel {display: flex;align-items: stretch;justify-content: center;background-color: white;position: relative;}#sk-container-id-1 div.sk-item::before, #sk-container-id-1 div.sk-parallel-item::before {content: \"\";position: absolute;border-left: 1px solid gray;box-sizing: border-box;top: 0;bottom: 0;left: 50%;z-index: -1;}#sk-container-id-1 div.sk-parallel-item {display: flex;flex-direction: column;z-index: 1;position: relative;background-color: white;}#sk-container-id-1 div.sk-parallel-item:first-child::after {align-self: flex-end;width: 50%;}#sk-container-id-1 div.sk-parallel-item:last-child::after {align-self: flex-start;width: 50%;}#sk-container-id-1 div.sk-parallel-item:only-child::after {width: 0;}#sk-container-id-1 div.sk-dashed-wrapped {border: 1px dashed gray;margin: 0 0.4em 0.5em 0.4em;box-sizing: border-box;padding-bottom: 0.4em;background-color: white;}#sk-container-id-1 div.sk-label label {font-family: monospace;font-weight: bold;display: inline-block;line-height: 1.2em;}#sk-container-id-1 div.sk-label-container {text-align: center;}#sk-container-id-1 div.sk-container {/* jupyter's `normalize.less` sets `[hidden] { display: none; }` but bootstrap.min.css set `[hidden] { display: none !important; }` so we also need the `!important` here to be able to override the default hidden behavior on the sphinx rendered scikit-learn.org. See: https://github.com/scikit-learn/scikit-learn/issues/21755 */display: inline-block !important;position: relative;}#sk-container-id-1 div.sk-text-repr-fallback {display: none;}</style><div id=\"sk-container-id-1\" class=\"sk-top-container\"><div class=\"sk-text-repr-fallback\"><pre>LogisticRegression()</pre><b>In a Jupyter environment, please rerun this cell to show the HTML representation or trust the notebook. <br />On GitHub, the HTML representation is unable to render, please try loading this page with nbviewer.org.</b></div><div class=\"sk-container\" hidden><div class=\"sk-item\"><div class=\"sk-estimator sk-toggleable\"><input class=\"sk-toggleable__control sk-hidden--visually\" id=\"sk-estimator-id-1\" type=\"checkbox\" checked><label for=\"sk-estimator-id-1\" class=\"sk-toggleable__label sk-toggleable__label-arrow\">LogisticRegression</label><div class=\"sk-toggleable__content\"><pre>LogisticRegression()</pre></div></div></div></div></div>"
            ]
          },
          "metadata": {},
          "execution_count": 7
        }
      ],
      "source": [
        "log = LogisticRegression()\n",
        "\n",
        "log.fit(X, y)"
      ]
    },
    {
      "cell_type": "markdown",
      "source": [
        "Evaluamos el modelo:"
      ],
      "metadata": {
        "id": "1Ke5VadpJ07c"
      },
      "id": "1Ke5VadpJ07c"
    },
    {
      "cell_type": "code",
      "execution_count": 9,
      "id": "77955d73",
      "metadata": {
        "id": "77955d73"
      },
      "outputs": [],
      "source": [
        "X_test_log, y_test_log = get_features_and_target_arrays(df_test, numeric_cols, cat_cols, scaler)"
      ]
    },
    {
      "cell_type": "code",
      "execution_count": 10,
      "id": "c76e3de8",
      "metadata": {
        "scrolled": true,
        "id": "c76e3de8"
      },
      "outputs": [],
      "source": [
        "y_score_log = log.decision_function(X_test_log)"
      ]
    },
    {
      "cell_type": "markdown",
      "source": [
        "Curva ROC de Regresión logística:"
      ],
      "metadata": {
        "id": "Kjhsei8iJssG"
      },
      "id": "Kjhsei8iJssG"
    },
    {
      "cell_type": "code",
      "execution_count": 12,
      "id": "2a94adb5",
      "metadata": {
        "colab": {
          "base_uri": "https://localhost:8080/",
          "height": 471
        },
        "id": "2a94adb5",
        "outputId": "11c29196-0eef-45ba-8df9-7f65f517d125"
      },
      "outputs": [
        {
          "output_type": "execute_result",
          "data": {
            "text/plain": [
              "Text(0.5, 1.0, 'Roc de Regresión Logística + random guessing')"
            ]
          },
          "metadata": {},
          "execution_count": 12
        },
        {
          "output_type": "display_data",
          "data": {
            "text/plain": [
              "<Figure size 640x480 with 1 Axes>"
            ],
            "image/png": "[encoded data removed]"
          },
          "metadata": {}
        }
      ],
      "source": [
        "fpr_log, tpr_log, _ = sk_metrics.roc_curve(y_test_log, y_score_log, pos_label= log.classes_[1])\n",
        "roc_auc_log = sk_metrics.auc(fpr_log,tpr_log)\n",
        "plt.plot(fpr_log, tpr_log, label=\"ROC fold (area=%0.2f)\"%(roc_auc_log))\n",
        "plt.plot([0,1],[0,1],linestyle=\"--\",color=(0.6,0.6,0.6),label=\"random guessing\")\n",
        "plt.title('Roc de Regresión Logística + random guessing')"
      ]
    },
    {
      "cell_type": "markdown",
      "source": [
        "Vemos que el modelo de regresión logística ajusta mejor que nuestra línea punteada gris, que representa el \"random guessing\", que sería equivalente a un simple experimento como lanzar una moneda, con probabilidad 1/2 de salir cara y 1/2 de salir sello.\n",
        "\n",
        "Nos interesa esta comparación, pues en el caso de que los dos modelos ajusten similar, preferentemente eligiremos el más simple. En este caso vemos que la curva roc de nuestro modelo está más cerca del 1 que el \"random guessing\", por lo que nos inclinariamos más por él."
      ],
      "metadata": {
        "id": "9S4YX-nS1evG"
      },
      "id": "9S4YX-nS1evG"
    },
    {
      "cell_type": "markdown",
      "source": [
        "Valor AUC:"
      ],
      "metadata": {
        "id": "P5_CLtznMuUj"
      },
      "id": "P5_CLtznMuUj"
    },
    {
      "cell_type": "code",
      "source": [
        "# Primero definimos una función de truncamiento para el valor AUC de regresión logística y los próximos modelo,\n",
        "# pues nos entregan muchos decimales que no nos aportan nueva información (ya que muchos de ellos eran periódicos).\n",
        "# Tomaremos 3 cifras decimales significantes.\n",
        "\n",
        "def trunc(num, n):\n",
        "    integer = int(num * (10**n))/(10**n)\n",
        "    return float(integer)"
      ],
      "metadata": {
        "id": "aNGUCXJKMzAi"
      },
      "id": "aNGUCXJKMzAi",
      "execution_count": 23,
      "outputs": []
    },
    {
      "cell_type": "code",
      "source": [
        "print(trunc(roc_auc_log,3))"
      ],
      "metadata": {
        "colab": {
          "base_uri": "https://localhost:8080/"
        },
        "id": "yrfJP0oRtpq2",
        "outputId": "783efb4e-1879-460e-ad5a-cad2d4a65b53"
      },
      "id": "yrfJP0oRtpq2",
      "execution_count": 46,
      "outputs": [
        {
          "output_type": "stream",
          "name": "stdout",
          "text": [
            "0.848\n"
          ]
        }
      ]
    },
    {
      "cell_type": "markdown",
      "source": [
        "Aquí vemos el valor del AUC, que es de un porcentaje de 84,8%.\n",
        "\n",
        "Sabemos que mientras más alto valor tiene el AUC de un modelo, este es mejor; donde el máximo es 1. Esto siempre que nos estemos enfocando en esta medida para comparar modelos, ya que sabemos que hay muchas más, para poder decidir realmente qué modelo es más apropiado para un problema).\n",
        "\n",
        "Ahora en nuestro caso el AUC del modelo de regresión logística nos está dando un buen valor para considerar en nuestras conclusiones finales."
      ],
      "metadata": {
        "id": "LD60x4YI32Sy"
      },
      "id": "LD60x4YI32Sy"
    },
    {
      "cell_type": "markdown",
      "id": "835efe93",
      "metadata": {
        "id": "835efe93"
      },
      "source": [
        "# **SVM**\n",
        "El modelo SVM se puede definir como un conjunto de algoritmos de aprendizaje supervisado. Por ejemplo, dado un conjunto de muestras de entrenamiento, podemos etiquetar las clases y entrenar con ellas un modelo SVM, que nos servirá para predecir la clase de una nueva muestra.\n",
        "\n",
        "---\n",
        "\n"
      ]
    },
    {
      "cell_type": "code",
      "execution_count": 27,
      "id": "4c1c93c9",
      "metadata": {
        "id": "4c1c93c9"
      },
      "outputs": [],
      "source": [
        "y = df[\"attack\"]\n",
        "X = df.drop('attack',axis=1)\n",
        "X_train_svm, X_test_svm, y_train_svm, y_test_svm = train_test_split(X, y, test_size=0.20, random_state = 123, stratify=df['attack'])"
      ]
    },
    {
      "cell_type": "markdown",
      "source": [
        "Evaluamos el modelo:"
      ],
      "metadata": {
        "id": "8CFuRuFDONue"
      },
      "id": "8CFuRuFDONue"
    },
    {
      "cell_type": "code",
      "source": [
        "svc =  svm.SVC(kernel='linear', C=1)\n",
        "svc.fit(X_train_svm, y_train_svm)\n",
        "\n",
        "svc_predicted = svc.predict(X_test_svm)"
      ],
      "metadata": {
        "id": "bJvmyDCAXQxw"
      },
      "id": "bJvmyDCAXQxw",
      "execution_count": 28,
      "outputs": []
    },
    {
      "cell_type": "code",
      "source": [
        "y_score_svm = svc.decision_function(X_test_svm.to_numpy())"
      ],
      "metadata": {
        "colab": {
          "base_uri": "https://localhost:8080/"
        },
        "id": "1Fb4dukN1er8",
        "outputId": "e25aa96f-45ca-4efd-e65c-3b16bafe2665"
      },
      "id": "1Fb4dukN1er8",
      "execution_count": 29,
      "outputs": [
        {
          "output_type": "stream",
          "name": "stderr",
          "text": [
            "/usr/local/lib/python3.10/dist-packages/sklearn/base.py:439: UserWarning: X does not have valid feature names, but SVC was fitted with feature names\n",
            "  warnings.warn(\n"
          ]
        }
      ]
    },
    {
      "cell_type": "markdown",
      "source": [
        "Curva ROC:"
      ],
      "metadata": {
        "id": "AOXoRucjgc7p"
      },
      "id": "AOXoRucjgc7p"
    },
    {
      "cell_type": "code",
      "source": [
        "fpr_svm, tpr_svm, _ = sk_metrics.roc_curve(y_test_svm, y_score_svm)\n",
        "roc_auc_svm=sk_metrics.auc(fpr_svm,tpr_svm)\n",
        "plt.plot(fpr_svm, tpr_svm, label=\"ROC fold (area=%0.2f)\"%(roc_auc_svm))\n",
        "plt.plot([0,1],[0,1],linestyle=\"--\",color=(0.6,0.6,0.6),label=\"random guessing\")\n",
        "plt.title('Roc de SVM + random guessing')"
      ],
      "metadata": {
        "colab": {
          "base_uri": "https://localhost:8080/",
          "height": 470
        },
        "id": "4FDbMSVCwZD9",
        "outputId": "db914701-5273-4da0-8d44-946482f5ddc6"
      },
      "id": "4FDbMSVCwZD9",
      "execution_count": 30,
      "outputs": [
        {
          "output_type": "execute_result",
          "data": {
            "text/plain": [
              "Text(0.5, 1.0, 'Roc de SVM + random guessing')"
            ]
          },
          "metadata": {},
          "execution_count": 30
        },
        {
          "output_type": "display_data",
          "data": {
            "text/plain": [
              "<Figure size 640x480 with 1 Axes>"
            ],
            "image/png": "[encoded data removed]"
          },
          "metadata": {}
        }
      ]
    },
    {
      "cell_type": "markdown",
      "source": [
        "Notamos que la curva Roc supera el \"random guessing\" y además como se acerca al 1, podríamos preferir el modelo SVM sobre el experimento aleatorio, pero más adelante haremos la comparación entre modelos, ya que no deberíamos tomar una preferencia sin considerar más medidas comparativas."
      ],
      "metadata": {
        "id": "edwsrUf_gq-1"
      },
      "id": "edwsrUf_gq-1"
    },
    {
      "cell_type": "markdown",
      "source": [
        "Valor AUC de SVM:"
      ],
      "metadata": {
        "id": "ACIg1RsAPPzC"
      },
      "id": "ACIg1RsAPPzC"
    },
    {
      "cell_type": "code",
      "source": [
        "print(trunc(roc_auc_svm,3))"
      ],
      "metadata": {
        "colab": {
          "base_uri": "https://localhost:8080/"
        },
        "id": "1DE2vlKv118N",
        "outputId": "dc55c94c-9977-4489-ebd6-76f63f25c0c1"
      },
      "id": "1DE2vlKv118N",
      "execution_count": 49,
      "outputs": [
        {
          "output_type": "stream",
          "name": "stdout",
          "text": [
            "0.853\n"
          ]
        }
      ]
    },
    {
      "cell_type": "markdown",
      "source": [
        "Vemos que el valor AUC del modelo SVM nos está dando un porcentaje de 85,3% aproximadamente, lo cual es bastante bueno."
      ],
      "metadata": {
        "id": "RYoCBST8hEVf"
      },
      "id": "RYoCBST8hEVf"
    },
    {
      "cell_type": "markdown",
      "source": [
        "# **Naive Bayes**\n",
        "Los modelos de Naive Bayes se basan en una técnica de clasificación estadística llamada “teorema de Bayes”. Son llamados algoritmos “Naive”, o “Inocentes” en español, pues en ellos se asume que las variables predictoras son independientes entre sí, por lo tanto proporcionan una manera fácil de construir modelos con un comportamiento muy bueno debido a su simplicidad.\n",
        "\n",
        "---\n",
        "\n"
      ],
      "metadata": {
        "id": "YYr58o91j4hX"
      },
      "id": "YYr58o91j4hX"
    },
    {
      "cell_type": "code",
      "source": [
        "y = df[\"attack\"]\n",
        "X = df.drop('attack',axis=1)\n",
        "\n",
        "X_train_nb, X_test_nb, y_train_nb, y_test_nb = train_test_split(\n",
        "    X, y, test_size=0.20, random_state=123\n",
        ")"
      ],
      "metadata": {
        "id": "b310a_r9m3UC"
      },
      "id": "b310a_r9m3UC",
      "execution_count": 33,
      "outputs": []
    },
    {
      "cell_type": "markdown",
      "source": [
        "Evaluamos el modelo:"
      ],
      "metadata": {
        "id": "-qMqOX6oP1AE"
      },
      "id": "-qMqOX6oP1AE"
    },
    {
      "cell_type": "code",
      "source": [
        "gnb = GaussianNB()\n",
        "\n",
        "gnb.fit(X_train_nb, y_train_nb);"
      ],
      "metadata": {
        "id": "FaWdeYt5yOib"
      },
      "id": "FaWdeYt5yOib",
      "execution_count": 35,
      "outputs": []
    },
    {
      "cell_type": "code",
      "source": [
        "y_gnb_score = gnb.predict_proba(X_test_nb)"
      ],
      "metadata": {
        "id": "y8RPvHpZ44N9"
      },
      "id": "y8RPvHpZ44N9",
      "execution_count": 38,
      "outputs": []
    },
    {
      "cell_type": "markdown",
      "source": [
        "Curva ROC:"
      ],
      "metadata": {
        "id": "-Y_9R0r5Q4EL"
      },
      "id": "-Y_9R0r5Q4EL"
    },
    {
      "cell_type": "code",
      "source": [
        "fpr_gnb, tpr_gnb, thresholds_gnb = roc_curve(y_test_nb, y_gnb_score[:, 1])\n",
        "roc_auc_gnb=sk_metrics.auc(fpr_gnb,tpr_gnb)\n",
        "plt.plot(fpr_gnb, tpr_gnb, label=\"ROC fold (area=%0.2f)\"%(roc_auc_gnb))\n",
        "plt.plot([0,1],[0,1],linestyle=\"--\",color=(0.6,0.6,0.6),label=\"random guessing\")\n",
        "plt.title('Roc de Naive Bayes + random guessing')"
      ],
      "metadata": {
        "colab": {
          "base_uri": "https://localhost:8080/",
          "height": 470
        },
        "id": "BkGcAXte4_cu",
        "outputId": "5cf9ab7b-dae5-4639-9463-0be210880db0"
      },
      "id": "BkGcAXte4_cu",
      "execution_count": 39,
      "outputs": [
        {
          "output_type": "execute_result",
          "data": {
            "text/plain": [
              "Text(0.5, 1.0, 'Roc de Naive Bayes + random guessing')"
            ]
          },
          "metadata": {},
          "execution_count": 39
        },
        {
          "output_type": "display_data",
          "data": {
            "text/plain": [
              "<Figure size 640x480 with 1 Axes>"
            ],
            "image/png": "[encoded data removed]"
          },
          "metadata": {}
        }
      ]
    },
    {
      "cell_type": "markdown",
      "source": [
        "Podemos ver que también esta curva Roc se acerca al 1, además vemos que claramente Naive Bayes ajusta mejor que \"random guessing\", por lo que lo preferimos y más adelante veremos quien de los cinco modelos es probablemente mejor."
      ],
      "metadata": {
        "id": "oLFh-L-ah-5n"
      },
      "id": "oLFh-L-ah-5n"
    },
    {
      "cell_type": "markdown",
      "source": [
        "Valor AUC de Naive Bayes:"
      ],
      "metadata": {
        "id": "E82qSe-WQy1j"
      },
      "id": "E82qSe-WQy1j"
    },
    {
      "cell_type": "code",
      "source": [
        "print(trunc(roc_auc_gnb,3))"
      ],
      "metadata": {
        "colab": {
          "base_uri": "https://localhost:8080/"
        },
        "id": "DCXRShk26Duz",
        "outputId": "b7d8578e-6dd0-49aa-c735-776ef0f38837"
      },
      "id": "DCXRShk26Duz",
      "execution_count": 52,
      "outputs": [
        {
          "output_type": "stream",
          "name": "stdout",
          "text": [
            "0.862\n"
          ]
        }
      ]
    },
    {
      "cell_type": "markdown",
      "source": [
        "Aquí también vemos que el AUC está bastante bueno, ya que es un porcentaje del 86,2% por lo que se acerca al 1."
      ],
      "metadata": {
        "id": "RCzhnrqhiTBX"
      },
      "id": "RCzhnrqhiTBX"
    },
    {
      "cell_type": "markdown",
      "source": [
        "# **LDA**\n",
        "El análisis discriminante linear (LDA) es un algoritmo de aprendizaje supervisado que se utiliza para tareas de clasificación en Machine Learning. Es una técnica utilizada para encontrar una combinación lineal de características que mejor separe las clases en un conjunto de datos.\n",
        "\n",
        "---\n",
        "\n"
      ],
      "metadata": {
        "id": "GaqKG42x-G9i"
      },
      "id": "GaqKG42x-G9i"
    },
    {
      "cell_type": "code",
      "source": [
        "y = df[\"attack\"]\n",
        "X = df.drop('attack',axis=1)\n",
        "\n",
        "X_train_lda, X_test_lda, y_train_lda, y_test_lda = train_test_split(\n",
        "    X, y, test_size=0.20, random_state=123\n",
        ")"
      ],
      "metadata": {
        "id": "Ma6n5XWUNnYc"
      },
      "id": "Ma6n5XWUNnYc",
      "execution_count": 57,
      "outputs": []
    },
    {
      "cell_type": "markdown",
      "source": [
        "Evaluamos el modelo:"
      ],
      "metadata": {
        "id": "hqXy8THXRHvC"
      },
      "id": "hqXy8THXRHvC"
    },
    {
      "cell_type": "code",
      "source": [
        "lda = LDA()\n",
        "\n",
        "lda.fit(X_train_lda, y_train_lda);"
      ],
      "metadata": {
        "id": "maePyXTcN9Mu"
      },
      "id": "maePyXTcN9Mu",
      "execution_count": 58,
      "outputs": []
    },
    {
      "cell_type": "code",
      "source": [
        "y_lda_score = lda.predict_proba(X_test_lda)"
      ],
      "metadata": {
        "id": "My0K35bsEUsf"
      },
      "id": "My0K35bsEUsf",
      "execution_count": 59,
      "outputs": []
    },
    {
      "cell_type": "markdown",
      "source": [
        "Curva ROC:"
      ],
      "metadata": {
        "id": "Z464kHxxRN_C"
      },
      "id": "Z464kHxxRN_C"
    },
    {
      "cell_type": "code",
      "source": [
        "fpr_lda, tpr_lda, thresholds_lda = roc_curve(y_test_lda, y_lda_score[:, 1])\n",
        "roc_auc_lda =sk_metrics.auc(fpr_lda,tpr_lda)\n",
        "plt.plot(fpr_lda, tpr_lda, label=\"ROC fold (area=%0.2f)\"%(roc_auc_lda))\n",
        "plt.plot([0,1],[0,1],linestyle=\"--\",color=(0.6,0.6,0.6),label=\"random guessing\")\n",
        "plt.title('Roc de LDA + random guessing')"
      ],
      "metadata": {
        "colab": {
          "base_uri": "https://localhost:8080/",
          "height": 470
        },
        "id": "lbaCKDx7EjU3",
        "outputId": "85ad009d-12ef-4828-c293-d380b87cc280"
      },
      "id": "lbaCKDx7EjU3",
      "execution_count": 45,
      "outputs": [
        {
          "output_type": "execute_result",
          "data": {
            "text/plain": [
              "Text(0.5, 1.0, 'Roc de LDA + random guessing')"
            ]
          },
          "metadata": {},
          "execution_count": 45
        },
        {
          "output_type": "display_data",
          "data": {
            "text/plain": [
              "<Figure size 640x480 with 1 Axes>"
            ],
            "image/png": "[encoded data removed]"
          },
          "metadata": {}
        }
      ]
    },
    {
      "cell_type": "markdown",
      "source": [
        "De manera similar a las otras curvas ROC que hemos visto, esta también se ve buena, ya que, también está cercana al 1 y comparando con el experimento aleatorio, es claro que nos conviene quedarnos con el modelo LDA."
      ],
      "metadata": {
        "id": "NzEZiheNkWkj"
      },
      "id": "NzEZiheNkWkj"
    },
    {
      "cell_type": "markdown",
      "source": [
        "Valor AUC:"
      ],
      "metadata": {
        "id": "J7C9yMrqTUFL"
      },
      "id": "J7C9yMrqTUFL"
    },
    {
      "cell_type": "code",
      "source": [
        "print(trunc(roc_auc_lda,3))"
      ],
      "metadata": {
        "colab": {
          "base_uri": "https://localhost:8080/"
        },
        "id": "qtFYeGkDFGyw",
        "outputId": "693546c0-c2d7-4dec-9ca3-b558be73f01f"
      },
      "id": "qtFYeGkDFGyw",
      "execution_count": 55,
      "outputs": [
        {
          "output_type": "stream",
          "name": "stdout",
          "text": [
            "0.869\n"
          ]
        }
      ]
    },
    {
      "cell_type": "markdown",
      "source": [
        "También vemos el valor del AUC del modelo LDA y concluimos que es muy bueno, se acerca casi a un pocentaje de 87%, que sería el más alto hasta ahora con respecto a los modelos ya vistos. Continuamos ahora con el QDA para finalizar y elegir un modelo."
      ],
      "metadata": {
        "id": "Uf829q0Xk3qw"
      },
      "id": "Uf829q0Xk3qw"
    },
    {
      "cell_type": "markdown",
      "source": [
        "# **QDA**\n",
        "Al igual que LDA, el clasificador QDA asume que las observaciones de cada clase de Y se extraen de una distribución gaussiana. Sin embargo, a diferencia de LDA, QDA asume que cada clase tiene su propia matriz de covarianza.\n",
        "\n",
        "---\n"
      ],
      "metadata": {
        "id": "28WcKM27-PsZ"
      },
      "id": "28WcKM27-PsZ"
    },
    {
      "cell_type": "code",
      "source": [
        "y = df[\"attack\"]\n",
        "X = df.drop('attack',axis=1)\n",
        "\n",
        "X_train_qda, X_test_qda, y_train_qda, y_test_qda = train_test_split(\n",
        "    X, y, test_size=0.20, random_state=123\n",
        ")"
      ],
      "metadata": {
        "id": "sdhO4IfGGug2"
      },
      "id": "sdhO4IfGGug2",
      "execution_count": 60,
      "outputs": []
    },
    {
      "cell_type": "markdown",
      "source": [
        "Evaluamos el modelo:"
      ],
      "metadata": {
        "id": "bbztRpReSYbR"
      },
      "id": "bbztRpReSYbR"
    },
    {
      "cell_type": "code",
      "source": [
        "qda = QDA()\n",
        "qda.fit(X_train_qda, y_train_qda)"
      ],
      "metadata": {
        "colab": {
          "base_uri": "https://localhost:8080/",
          "height": 75
        },
        "id": "Ea7MyHM8Ht85",
        "outputId": "f1005fcc-7f01-47c1-b21c-e2000ff25c92"
      },
      "id": "Ea7MyHM8Ht85",
      "execution_count": 61,
      "outputs": [
        {
          "output_type": "execute_result",
          "data": {
            "text/plain": [
              "QuadraticDiscriminantAnalysis()"
            ],
            "text/html": [
              "<style>#sk-container-id-2 {color: black;background-color: white;}#sk-container-id-2 pre{padding: 0;}#sk-container-id-2 div.sk-toggleable {background-color: white;}#sk-container-id-2 label.sk-toggleable__label {cursor: pointer;display: block;width: 100%;margin-bottom: 0;padding: 0.3em;box-sizing: border-box;text-align: center;}#sk-container-id-2 label.sk-toggleable__label-arrow:before {content: \"▸\";float: left;margin-right: 0.25em;color: #696969;}#sk-container-id-2 label.sk-toggleable__label-arrow:hover:before {color: black;}#sk-container-id-2 div.sk-estimator:hover label.sk-toggleable__label-arrow:before {color: black;}#sk-container-id-2 div.sk-toggleable__content {max-height: 0;max-width: 0;overflow: hidden;text-align: left;background-color: #f0f8ff;}#sk-container-id-2 div.sk-toggleable__content pre {margin: 0.2em;color: black;border-radius: 0.25em;background-color: #f0f8ff;}#sk-container-id-2 input.sk-toggleable__control:checked~div.sk-toggleable__content {max-height: 200px;max-width: 100%;overflow: auto;}#sk-container-id-2 input.sk-toggleable__control:checked~label.sk-toggleable__label-arrow:before {content: \"▾\";}#sk-container-id-2 div.sk-estimator input.sk-toggleable__control:checked~label.sk-toggleable__label {background-color: #d4ebff;}#sk-container-id-2 div.sk-label input.sk-toggleable__control:checked~label.sk-toggleable__label {background-color: #d4ebff;}#sk-container-id-2 input.sk-hidden--visually {border: 0;clip: rect(1px 1px 1px 1px);clip: rect(1px, 1px, 1px, 1px);height: 1px;margin: -1px;overflow: hidden;padding: 0;position: absolute;width: 1px;}#sk-container-id-2 div.sk-estimator {font-family: monospace;background-color: #f0f8ff;border: 1px dotted black;border-radius: 0.25em;box-sizing: border-box;margin-bottom: 0.5em;}#sk-container-id-2 div.sk-estimator:hover {background-color: #d4ebff;}#sk-container-id-2 div.sk-parallel-item::after {content: \"\";width: 100%;border-bottom: 1px solid gray;flex-grow: 1;}#sk-container-id-2 div.sk-label:hover label.sk-toggleable__label {background-color: #d4ebff;}#sk-container-id-2 div.sk-serial::before {content: \"\";position: absolute;border-left: 1px solid gray;box-sizing: border-box;top: 0;bottom: 0;left: 50%;z-index: 0;}#sk-container-id-2 div.sk-serial {display: flex;flex-direction: column;align-items: center;background-color: white;padding-right: 0.2em;padding-left: 0.2em;position: relative;}#sk-container-id-2 div.sk-item {position: relative;z-index: 1;}#sk-container-id-2 div.sk-parallel {display: flex;align-items: stretch;justify-content: center;background-color: white;position: relative;}#sk-container-id-2 div.sk-item::before, #sk-container-id-2 div.sk-parallel-item::before {content: \"\";position: absolute;border-left: 1px solid gray;box-sizing: border-box;top: 0;bottom: 0;left: 50%;z-index: -1;}#sk-container-id-2 div.sk-parallel-item {display: flex;flex-direction: column;z-index: 1;position: relative;background-color: white;}#sk-container-id-2 div.sk-parallel-item:first-child::after {align-self: flex-end;width: 50%;}#sk-container-id-2 div.sk-parallel-item:last-child::after {align-self: flex-start;width: 50%;}#sk-container-id-2 div.sk-parallel-item:only-child::after {width: 0;}#sk-container-id-2 div.sk-dashed-wrapped {border: 1px dashed gray;margin: 0 0.4em 0.5em 0.4em;box-sizing: border-box;padding-bottom: 0.4em;background-color: white;}#sk-container-id-2 div.sk-label label {font-family: monospace;font-weight: bold;display: inline-block;line-height: 1.2em;}#sk-container-id-2 div.sk-label-container {text-align: center;}#sk-container-id-2 div.sk-container {/* jupyter's `normalize.less` sets `[hidden] { display: none; }` but bootstrap.min.css set `[hidden] { display: none !important; }` so we also need the `!important` here to be able to override the default hidden behavior on the sphinx rendered scikit-learn.org. See: https://github.com/scikit-learn/scikit-learn/issues/21755 */display: inline-block !important;position: relative;}#sk-container-id-2 div.sk-text-repr-fallback {display: none;}</style><div id=\"sk-container-id-2\" class=\"sk-top-container\"><div class=\"sk-text-repr-fallback\"><pre>QuadraticDiscriminantAnalysis()</pre><b>In a Jupyter environment, please rerun this cell to show the HTML representation or trust the notebook. <br />On GitHub, the HTML representation is unable to render, please try loading this page with nbviewer.org.</b></div><div class=\"sk-container\" hidden><div class=\"sk-item\"><div class=\"sk-estimator sk-toggleable\"><input class=\"sk-toggleable__control sk-hidden--visually\" id=\"sk-estimator-id-2\" type=\"checkbox\" checked><label for=\"sk-estimator-id-2\" class=\"sk-toggleable__label sk-toggleable__label-arrow\">QuadraticDiscriminantAnalysis</label><div class=\"sk-toggleable__content\"><pre>QuadraticDiscriminantAnalysis()</pre></div></div></div></div></div>"
            ]
          },
          "metadata": {},
          "execution_count": 61
        }
      ]
    },
    {
      "cell_type": "code",
      "source": [
        "y_score_qda = qda.predict_proba(X_test_qda)"
      ],
      "metadata": {
        "id": "73TYdTc1IqRP"
      },
      "id": "73TYdTc1IqRP",
      "execution_count": 62,
      "outputs": []
    },
    {
      "cell_type": "markdown",
      "source": [
        "Curva ROC:"
      ],
      "metadata": {
        "id": "cx9NXivfSp3K"
      },
      "id": "cx9NXivfSp3K"
    },
    {
      "cell_type": "code",
      "source": [
        "fpr_qda, tpr_qda, thresholds_qda = roc_curve(y_test_qda, y_score_qda[:, 1])\n",
        "roc_auc_qda = sk_metrics.auc(fpr_qda,tpr_qda)\n",
        "plt.plot(fpr_qda, tpr_qda, label=\"ROC fold (area=%0.2f)\"%(roc_auc_qda))\n",
        "plt.plot([0,1],[0,1],linestyle=\"--\",color=(0.6,0.6,0.6),label=\"random guessing\")\n",
        "plt.title('Roc de QDA + random guessing')"
      ],
      "metadata": {
        "colab": {
          "base_uri": "https://localhost:8080/",
          "height": 470
        },
        "id": "aZjeONFvJRLh",
        "outputId": "0d6fec10-9956-4856-c8c4-95643d61531e"
      },
      "id": "aZjeONFvJRLh",
      "execution_count": 63,
      "outputs": [
        {
          "output_type": "execute_result",
          "data": {
            "text/plain": [
              "Text(0.5, 1.0, 'Roc de QDA + random guessing')"
            ]
          },
          "metadata": {},
          "execution_count": 63
        },
        {
          "output_type": "display_data",
          "data": {
            "text/plain": [
              "<Figure size 640x480 with 1 Axes>"
            ],
            "image/png": "[encoded data removed]"
          },
          "metadata": {}
        }
      ]
    },
    {
      "cell_type": "markdown",
      "source": [
        "Se ve una buena buena curva que se acerca al 1.\n",
        "Notamos que ajusta mucho mejor que el experimento aleatorio, por lo que podemos decir que en realidad los cinco modelos implementados son mejores que el \"random guessing\", el cual a pesar de que sea más simple no estima tan bien como los modelos."
      ],
      "metadata": {
        "id": "5X9FV-KilQua"
      },
      "id": "5X9FV-KilQua"
    },
    {
      "cell_type": "markdown",
      "source": [
        "Valor AUC:"
      ],
      "metadata": {
        "id": "-DIu52xVStCx"
      },
      "id": "-DIu52xVStCx"
    },
    {
      "cell_type": "code",
      "source": [
        "print(trunc(roc_auc_qda,3))"
      ],
      "metadata": {
        "colab": {
          "base_uri": "https://localhost:8080/"
        },
        "id": "-WG2qjDeGtXz",
        "outputId": "0f049a95-3719-4cc5-ff14-d9fb13490132"
      },
      "id": "-WG2qjDeGtXz",
      "execution_count": 64,
      "outputs": [
        {
          "output_type": "stream",
          "name": "stdout",
          "text": [
            "0.854\n"
          ]
        }
      ]
    },
    {
      "cell_type": "markdown",
      "source": [
        "Aquí también vemos un buen AUC del 85,4%."
      ],
      "metadata": {
        "id": "1lstSagTmO3e"
      },
      "id": "1lstSagTmO3e"
    },
    {
      "cell_type": "markdown",
      "source": [
        "Observamos que tenemos buenos modelos, así que en lo que sigue veremos métricas para hacer la comparación entre los cinco y ver cual podríamos elegir como el mejor o más aceptable que los demás."
      ],
      "metadata": {
        "id": "FI2kxOLhmhjO"
      },
      "id": "FI2kxOLhmhjO"
    },
    {
      "cell_type": "markdown",
      "source": [
        "# **Métricas de desempeño**\n",
        "A continuación veremos las métricas de desempeño de los cinco modelos.\n",
        "\n",
        "Además del AUC, que ya ha sido mostrado en cada implementación de los modelos, veremos también el Accuracy y el F1-score:\n",
        "\n",
        "\n",
        "\n",
        "*   AUC: es una métrica utilizada para evaluar el rendimiento de los modelos de aprendizaje automático de clasificación.\n",
        "\n",
        "\n",
        "*   Accuracy (exactitud): es la proporción de predicciones correctas.\n",
        "\n",
        "\n",
        "*   $F_1$ - score: es la media armónica de precisión y sensibilidad del test.\n",
        "\n",
        "\n",
        "---\n",
        "\n"
      ],
      "metadata": {
        "id": "lkMcJgSr-R6W"
      },
      "id": "lkMcJgSr-R6W"
    },
    {
      "cell_type": "markdown",
      "source": [
        "Implementación de métricas para añadir en nuestra tabla comparativa:"
      ],
      "metadata": {
        "id": "u4GSgvJOTiE_"
      },
      "id": "u4GSgvJOTiE_"
    },
    {
      "cell_type": "code",
      "source": [
        "from sklearn.metrics import (\n",
        "    accuracy_score,\n",
        "    confusion_matrix,\n",
        "    ConfusionMatrixDisplay,\n",
        "    f1_score,\n",
        "    classification_report,\n",
        ")\n",
        "\n",
        "y_pred_log = log.fit(X, y).predict(X_test_log)\n",
        "y_pred_svm = svc.fit(X_train_svm, y_train_svm).predict(X_test_svm)\n",
        "y_pred_nb = gnb.fit(X_train_nb, y_train_nb).predict(X_test_nb)\n",
        "y_pred_lda = lda.fit(X_train_lda, y_train_lda).predict(X_test_lda)\n",
        "y_pred_qda = qda.fit(X_train_qda, y_train_qda).predict(X_test_qda)\n",
        "\n",
        "accuray_log = accuracy_score(y_pred_log, y_test_log)\n",
        "f1_log = f1_score(y_pred_log, y_test_log, average=\"weighted\")\n",
        "accuray_svm = accuracy_score(y_pred_svm, y_test_svm)\n",
        "f1_svm = f1_score(y_pred_svm, y_test_svm, average=\"weighted\")\n",
        "accuray_nb = accuracy_score(y_pred_nb, y_test_nb)\n",
        "f1_nb = f1_score(y_pred_nb, y_test_nb, average=\"weighted\")\n",
        "accuray_lda = accuracy_score(y_pred_lda, y_test_lda)\n",
        "f1_lda = f1_score(y_pred_lda, y_test_lda, average=\"weighted\")\n",
        "accuray_qda = accuracy_score(y_pred_qda, y_test_qda)\n",
        "f1_qda = f1_score(y_pred_qda, y_test_qda, average=\"weighted\")"
      ],
      "metadata": {
        "colab": {
          "base_uri": "https://localhost:8080/"
        },
        "id": "akZ0YCpWCEk3",
        "outputId": "4ed5f166-9b96-4a88-dd98-f024d061a79e"
      },
      "id": "akZ0YCpWCEk3",
      "execution_count": null,
      "outputs": [
        {
          "output_type": "stream",
          "name": "stderr",
          "text": [
            "/usr/local/lib/python3.10/dist-packages/sklearn/linear_model/_logistic.py:458: ConvergenceWarning: lbfgs failed to converge (status=1):\n",
            "STOP: TOTAL NO. of ITERATIONS REACHED LIMIT.\n",
            "\n",
            "Increase the number of iterations (max_iter) or scale the data as shown in:\n",
            "    https://scikit-learn.org/stable/modules/preprocessing.html\n",
            "Please also refer to the documentation for alternative solver options:\n",
            "    https://scikit-learn.org/stable/modules/linear_model.html#logistic-regression\n",
            "  n_iter_i = _check_optimize_result(\n",
            "/usr/local/lib/python3.10/dist-packages/sklearn/base.py:439: UserWarning: X does not have valid feature names, but LogisticRegression was fitted with feature names\n",
            "  warnings.warn(\n"
          ]
        }
      ]
    },
    {
      "cell_type": "markdown",
      "source": [
        "# **Tabla comparativa**"
      ],
      "metadata": {
        "id": "RbY8zf_ZTr1_"
      },
      "id": "RbY8zf_ZTr1_"
    },
    {
      "cell_type": "markdown",
      "source": [
        "Aquí se realiza una tabla de comparaciones de algunas métricas de desempeño de los modelos trabajados."
      ],
      "metadata": {
        "id": "PFTRN1XST0CN"
      },
      "id": "PFTRN1XST0CN"
    },
    {
      "cell_type": "code",
      "source": [
        "d = [ [\"LG\", roc_auc_log, accuray_log, f1_log],\n",
        "     [\"SVM\", roc_auc_svm, accuray_svm, f1_svm],\n",
        "     [\"GNB\", roc_auc_gnb, accuray_nb, f1_nb],\n",
        "     [\"LDA\", roc_auc_lda, accuray_lda, f1_lda],\n",
        "     [\"QDA\", roc_auc_qda, accuray_qda, f1_qda]]\n",
        "\n",
        "print (\"{:<8} {:<10}   {:<20}  {:<30}\".format('Modelo','AUC','        Accuracy','        F1'))\n",
        "\n",
        "for v in d:\n",
        "    Modelo, AUC, Accuracy, F1= v\n",
        "    print (\"{:<8} {:<10}   {:<20}  {:<30}\".format( Modelo, AUC, Accuracy, F1))"
      ],
      "metadata": {
        "colab": {
          "base_uri": "https://localhost:8080/"
        },
        "id": "RCFAHPmcF8z9",
        "outputId": "ce7c2c66-cca8-4dbf-8bde-8e6950bfc42f"
      },
      "id": "RCFAHPmcF8z9",
      "execution_count": null,
      "outputs": [
        {
          "output_type": "stream",
          "name": "stdout",
          "text": [
            "Modelo   AUC                  Accuracy              F1                    \n",
            "LG       0.8484848484848484   0.6981132075471698    0.6941293642450064            \n",
            "SVM      0.8530303030303031   0.7924528301886793    0.7935648318639026            \n",
            "GNB      0.8621700879765396   0.8113207547169812    0.8150371640937679            \n",
            "LDA      0.8695014662756598   0.8301886792452831    0.837638294570206             \n",
            "QDA      0.8548387096774194   0.7924528301886793    0.7952564692555489            \n"
          ]
        }
      ]
    },
    {
      "cell_type": "markdown",
      "source": [
        "# **Conclusión**"
      ],
      "metadata": {
        "id": "nb_7_jYoY3Ft"
      },
      "id": "nb_7_jYoY3Ft"
    },
    {
      "cell_type": "markdown",
      "source": [
        "De la información recopilada a lo largo de este trabajo podemos notar que el modelo LDA es el que mejor se ve en término de las medidas AUC, Accuracy y F1.\n",
        "\n",
        " En los tres casos el LDA toma los valores más grandes entre los cinco modelos trabajados y además son muy cercanos al 1. Por lo tanto podríamos decir que el mejor con respecto a las mediciones es el modelo LDA, sin embargo no podemos descartar los otros cuatro rotundamente, ya que, los valores que toman en las mediciones de la tabla vista anteriormente también son cercanos al 1.\n",
        "\n",
        " Para poder definitivamente escoger uno, tendríamos que comparar también el tamaño de los datos que estamos tomando como training; probar con varios valores y ahí tendríamos una perspectiva más amplia y podríamos tomar una mejor decisión. Pero para esta oportunidad diremos que el mejor (sin menospreciar la exactitud de los otros) sería el modelo Linear Discrimination Analysis."
      ],
      "metadata": {
        "id": "6BdA-lZhY9cd"
      },
      "id": "6BdA-lZhY9cd"
    }
  ],
  "metadata": {
    "kernelspec": {
      "display_name": "Python 3 (ipykernel)",
      "language": "python",
      "name": "python3"
    },
    "language_info": {
      "codemirror_mode": {
        "name": "ipython",
        "version": 3
      },
      "file_extension": ".py",
      "mimetype": "text/x-python",
      "name": "python",
      "nbconvert_exporter": "python",
      "pygments_lexer": "ipython3",
      "version": "3.10.6"
    },
    "colab": {
      "provenance": []
    }
  },
  "nbformat": 4,
  "nbformat_minor": 5
}